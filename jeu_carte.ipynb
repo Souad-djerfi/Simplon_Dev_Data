{
 "metadata": {
  "language_info": {
   "codemirror_mode": {
    "name": "ipython",
    "version": 3
   },
   "file_extension": ".py",
   "mimetype": "text/x-python",
   "name": "python",
   "nbconvert_exporter": "python",
   "pygments_lexer": "ipython3",
   "version": "3.8.5-final"
  },
  "orig_nbformat": 2,
  "kernelspec": {
   "name": "Python 3.8.5 32-bit",
   "display_name": "Python 3.8.5 32-bit",
   "metadata": {
    "interpreter": {
     "hash": "c5e56fbcdc31a633ac0299573016abf27dbdfacef16b1340a435c1336c93ab79"
    }
   }
  }
 },
 "nbformat": 4,
 "nbformat_minor": 2,
 "cells": [
  {
   "cell_type": "code",
   "execution_count": 2,
   "metadata": {},
   "outputs": [],
   "source": [
    "from random import randrange"
   ]
  },
  {
   "cell_type": "code",
   "execution_count": 3,
   "metadata": {},
   "outputs": [
    {
     "output_type": "stream",
     "name": "stdout",
     "text": [
      "[(1, 1), (1, 2), (1, 3), (1, 4), (2, 1), (2, 2), (2, 3), (2, 4), (3, 1), (3, 2), (3, 3), (3, 4), (4, 1), (4, 2), (4, 3), (4, 4), (5, 1), (5, 2), (5, 3), (5, 4), (6, 1), (6, 2), (6, 3), (6, 4), (7, 1), (7, 2), (7, 3), (7, 4), (8, 1), (8, 2), (8, 3), (8, 4), (9, 1), (9, 2), (9, 3), (9, 4), (10, 1), (10, 2), (10, 3), (10, 4)]\n"
     ]
    }
   ],
   "source": [
    "# exercice jau de cartes:\n",
    "\n",
    "valeurs=[i for i in range(1,11)]\n",
    "couleurs=[i for i in range(1,5)]\n",
    "nbTours=7\n",
    "score=0 \n",
    "paquet =[(v,c) for v in valeurs for c in couleurs]\n",
    "main1, main2 = [],[]\n",
    "print(paquet)"
   ]
  },
  {
   "cell_type": "code",
   "execution_count": 4,
   "metadata": {},
   "outputs": [],
   "source": [
    "#2. tirer les cartes aléatoirement\n",
    "for i in range(nbTours):\n",
    "    x=paquet[randrange(len(paquet))]\n",
    "    main1.append(x)\n",
    "    paquet.remove(x)\n",
    "    y=paquet[randrange(len(paquet))]\n",
    "    main2.append(y)\n",
    "    paquet.remove(y)"
   ]
  },
  {
   "cell_type": "code",
   "execution_count": 5,
   "metadata": {},
   "outputs": [
    {
     "output_type": "stream",
     "name": "stdout",
     "text": [
      "main1 [(6, 3), (8, 1), (10, 3), (7, 2), (6, 2), (3, 4), (8, 4)] main2 [(5, 2), (5, 4), (2, 4), (9, 1), (9, 2), (7, 3), (2, 1)]\n"
     ]
    }
   ],
   "source": [
    "print(\"main1\", main1, \"main2\",main2)"
   ]
  },
  {
   "cell_type": "code",
   "execution_count": null,
   "metadata": {},
   "outputs": [],
   "source": []
  },
  {
   "source": [
    "# determiner qui des deux joueurs a gagné\n",
    "\n",
    "for i in range(nbTours):\n",
    "    if main1[i][0]>main2[i][0] or (main1[i][0]==main2[i][0] and main1[i][1]>main2[i][1]):\n",
    "        score+=1\n",
    "    else:\n",
    "        score-=1\n",
    "print(\"vainqueur\"+(\"joueur1\" if score >0 else \"joueur2\"))            "
   ],
   "cell_type": "markdown",
   "metadata": {}
  },
  {
   "cell_type": "code",
   "execution_count": 6,
   "metadata": {},
   "outputs": [],
   "source": [
    "# fonction plugrand que\n",
    "\n",
    "def pluGrandQue(carte1, carte2):\n",
    "    score=0\n",
    "    if carte1[0]>carte2[0] or (carte1[0]==carte2[0] and carte1[1]> carte2[1]):\n",
    "        score+=1\n",
    "    else:\n",
    "         score-=1\n",
    "    return score>0       "
   ]
  },
  {
   "cell_type": "code",
   "execution_count": 7,
   "metadata": {},
   "outputs": [
    {
     "output_type": "execute_result",
     "data": {
      "text/plain": [
       "True"
      ]
     },
     "metadata": {},
     "execution_count": 7
    }
   ],
   "source": [
    "carte1=[5,2] \n",
    "carte2=[3,4]\n",
    "pluGrandQue(carte1,carte2)"
   ]
  },
  {
   "cell_type": "code",
   "execution_count": 29,
   "metadata": {},
   "outputs": [],
   "source": [
    "# fonction piocher\n",
    "def piocher(nbTours,paquet):\n",
    "    main1, main2 = [],[]\n",
    "    \n",
    "    for i in range(nbTours):\n",
    "        x=paquet[randrange(len(paquet))]\n",
    "        main1.append(x)\n",
    "        paquet.remove(x)\n",
    "        y=paquet[randrange(len(paquet))]\n",
    "        main2.append(y)\n",
    "        paquet.remove(y)\n",
    "    return main1, main2   "
   ]
  },
  {
   "cell_type": "code",
   "execution_count": 32,
   "metadata": {},
   "outputs": [
    {
     "output_type": "execute_result",
     "data": {
      "text/plain": [
       "([(5, 2), (1, 3), (6, 4), (6, 3), (4, 2), (4, 4), (3, 1)],\n",
       " [(3, 3), (7, 2), (9, 2), (8, 1), (5, 4), (5, 1), (6, 2)])"
      ]
     },
     "metadata": {},
     "execution_count": 32
    }
   ],
   "source": [
    "piocher(7,paquet)"
   ]
  },
  {
   "cell_type": "code",
   "execution_count": 37,
   "metadata": {},
   "outputs": [],
   "source": [
    "# création de la classe carte\n",
    "class Carte:\n",
    "    def __init__(self,couleur, valeur):\n",
    "        self.v=valeur\n",
    "        self.c=couleur\n",
    "        \n",
    "    def pluGrand(self, carte) :\n",
    "        return self.v>carte.v or(self.v==carte.v and self.c>carte.c)\n",
    "\n",
    "    def __str__(self):\n",
    "        return str(self.v)+ str(self.c)"
   ]
  },
  {
   "cell_type": "code",
   "execution_count": 81,
   "metadata": {},
   "outputs": [],
   "source": [
    "# création de la classe partie\n",
    "class Partie:\n",
    "    def __init__(self, nbrCouleur, nbrValeur, NbrTours):\n",
    "        self.nbrCl=nbrCouleur\n",
    "        self.nbrVl=nbrValeur\n",
    "        self.nbrTr=nbTours\n",
    "        self.score=0\n",
    "        self.paquet=[Carte(v,c)for v in range(1,self.nbrVl+1) for c in range(1,self.nbrCl+1)]\n",
    "       \n",
    "    def piocher(self):\n",
    "        \n",
    "        self.main1, self.main2 = [],[]\n",
    "    \n",
    "        for i in range(self.nbrTr):\n",
    "            x=self.paquet[randrange(len(self.paquet))]\n",
    "            self.main1.append(x)\n",
    "            self.paquet.remove(x)\n",
    "            y=self.paquet[randrange(len(self.paquet))]\n",
    "            self.main2.append(y)\n",
    "            self.paquet.remove(y)\n",
    "        return self.main1,self.main2   \n",
    "\n",
    "    def __str__(self):\n",
    "        return str(self.paquet)\n",
    "        #return str(self.nbrCl)+str(self.nbrVl)  +str(self.nbrTr)\n",
    "\n",
    "    def jouer(self):\n",
    "        \n",
    "        self.piocher()\n",
    "        for i in range(self.nbrTr):\n",
    "            if self.piocher[i][0].pluGrand(self.piocher[i][1]):\n",
    "                self.score+=1\n",
    "            else:\n",
    "                self.score-=1\n",
    "        return (\"joueur1\" if score>0 else \"joueur2\"  )          \n",
    "\n",
    "\n",
    "\n"
   ]
  },
  {
   "cell_type": "code",
   "execution_count": 82,
   "metadata": {},
   "outputs": [
    {
     "output_type": "stream",
     "name": "stdout",
     "text": [
      "[<__main__.Carte object at 0x06B2A7C0>, <__main__.Carte object at 0x06B2A700>, <__main__.Carte object at 0x06B2A160>, <__main__.Carte object at 0x06B2A208>, <__main__.Carte object at 0x06B2A2B0>, <__main__.Carte object at 0x068476B8>, <__main__.Carte object at 0x06847C10>, <__main__.Carte object at 0x06847C28>, <__main__.Carte object at 0x0688F5F8>, <__main__.Carte object at 0x068478E0>, <__main__.Carte object at 0x06847268>, <__main__.Carte object at 0x06847D00>, <__main__.Carte object at 0x06847418>, <__main__.Carte object at 0x06847298>, <__main__.Carte object at 0x06847148>, <__main__.Carte object at 0x06847AD8>, <__main__.Carte object at 0x06847850>, <__main__.Carte object at 0x06847100>, <__main__.Carte object at 0x06847088>, <__main__.Carte object at 0x068473B8>, <__main__.Carte object at 0x06847FA0>, <__main__.Carte object at 0x068475C8>, <__main__.Carte object at 0x068473A0>, <__main__.Carte object at 0x06B148C8>, <__main__.Carte object at 0x06847880>, <__main__.Carte object at 0x06C9E8E0>, <__main__.Carte object at 0x06C9E448>, <__main__.Carte object at 0x06C9E7D8>]\n"
     ]
    }
   ],
   "source": [
    "p1=Partie(4,7,7)\n",
    "print(p1)\n",
    "#p1.piocher()\n",
    "#p1.jouer()"
   ]
  },
  {
   "cell_type": "code",
   "execution_count": 30,
   "metadata": {},
   "outputs": [
    {
     "output_type": "stream",
     "name": "stdout",
     "text": [
      "32\n"
     ]
    }
   ],
   "source": [
    "c1=Carte(2,3)\n",
    "print(c1)"
   ]
  },
  {
   "cell_type": "code",
   "execution_count": 38,
   "metadata": {},
   "outputs": [
    {
     "output_type": "execute_result",
     "data": {
      "text/plain": [
       "False"
      ]
     },
     "metadata": {},
     "execution_count": 38
    }
   ],
   "source": [
    "c1=Carte(2,3)\n",
    "c2=Carte(3,4)\n",
    "\n",
    "c1.pluGrand(c2)"
   ]
  },
  {
   "cell_type": "code",
   "execution_count": null,
   "metadata": {},
   "outputs": [],
   "source": []
  }
 ]
}