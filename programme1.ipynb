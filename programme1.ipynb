{
 "cells": [
  {
   "cell_type": "code",
   "execution_count": 1,
   "metadata": {},
   "outputs": [
    {
     "name": "stdout",
     "output_type": "stream",
     "text": [
      "entrer un nombre2\n",
      "le nombre est paire\n"
     ]
    }
   ],
   "source": [
    "a=int(input(\"entrer un nombre\"));\n",
    "if a%2==0:\n",
    "    print(\"le nombre est paire\");\n",
    "else: \n",
    "    print(\"le nombre est impair\");  "
   ]
  },
  {
   "cell_type": "code",
   "execution_count": 2,
   "metadata": {},
   "outputs": [
    {
     "name": "stdout",
     "output_type": "stream",
     "text": [
      "veuillez entrer le coté1: 2\n",
      "veuillez entrer le coté2: 2\n",
      "veuillez entrer le coté3: 8\n",
      "le triangle n'est pas rectangle.\n"
     ]
    }
   ],
   "source": [
    "a=int(input(\"veuillez entrer le coté1: \"));\n",
    "b=int(input(\"veuillez entrer le coté2: \"));\n",
    "c=int(input(\"veuillez entrer le coté3: \"));\n",
    "\n",
    "if a**2 ==b**2+c**2 or b**2==a**2+c**2 or c**2==a**2+b**2:\n",
    "    print(\"le triangle est rectangle.\");\n",
    "else:\n",
    "    print (\"le triangle n'est pas rectangle.\");"
   ]
  },
  {
   "cell_type": "code",
   "execution_count": null,
   "metadata": {
    "scrolled": true
   },
   "outputs": [
    {
     "name": "stdout",
     "output_type": "stream",
     "text": [
      "veuillez entrer le prix HT: 45\n"
     ]
    }
   ],
   "source": [
    "a=1;\n",
    "while a!=0:\n",
    "      a=float(input(\"veuillez entrer le prix HT: \"));\n",
    "    \n",
    "if a==0:\n",
    "   print (\"désolé le programme doit s'arreter \");\n"
   ]
  },
  {
   "cell_type": "code",
   "execution_count": 3,
   "metadata": {},
   "outputs": [
    {
     "name": "stdout",
     "output_type": "stream",
     "text": [
      "[2, 7, 3, 5, 1, 8, 9, 4]\n"
     ]
    }
   ],
   "source": [
    "L1=[2,7,3,5,1,7,1];\n",
    "L2=[8,5,9,4,4,3,9];\n",
    "L3=[];\n",
    "for i in L1: \n",
    "    if i not in L3:\n",
    "       L3.append(i);\n",
    "for j in L2:\n",
    "    if j not in L3:\n",
    "       L3.append (j);\n",
    "print (L3);        \n",
    "    "
   ]
  },
  {
   "cell_type": "code",
   "execution_count": 24,
   "metadata": {},
   "outputs": [
    {
     "name": "stdout",
     "output_type": "stream",
     "text": [
      "la liste nest pas palindrome\n"
     ]
    }
   ],
   "source": [
    "L=[1,2,3,4,3,2,1];\n",
    "L2 = L.copy()\n",
    "L2.reverse()\n",
    "if L1==L2:\n",
    "   print (\"la liste est bien palindrome\") ;\n",
    "else :\n",
    "    print(\"la liste nest pas palindrome\");\n",
    "    \n",
    "\n"
   ]
  },
  {
   "cell_type": "code",
   "execution_count": null,
   "metadata": {},
   "outputs": [],
   "source": [
    "L=[1,2,3,4,3,2,1];\n",
    "if(L1==L[::-1]):\n",
    "    print (\"la liste est bien palindrome\") ;\n",
    "else :\n",
    "    print(\"la liste nest pas palindrome\");\n",
    "    "
   ]
  },
  {
   "cell_type": "code",
   "execution_count": 7,
   "metadata": {},
   "outputs": [
    {
     "name": "stdout",
     "output_type": "stream",
     "text": [
      "popo 1\n",
      "gygy 2\n",
      "toto 3\n"
     ]
    }
   ],
   "source": [
    "import random;\n",
    "L=['toto', 'popo', 'gygy'];\n",
    "random.shuffle(L)\n",
    "for i in range(len(L)):\n",
    "    print(L[i],i+1);\n",
    "    \n"
   ]
  },
  {
   "cell_type": "code",
   "execution_count": null,
   "metadata": {},
   "outputs": [],
   "source": []
  },
  {
   "cell_type": "code",
   "execution_count": null,
   "metadata": {},
   "outputs": [],
   "source": []
  }
 ],
 "metadata": {
  "kernelspec": {
   "display_name": "Python 3",
   "language": "python",
   "name": "python3"
  },
  "language_info": {
   "codemirror_mode": {
    "name": "ipython",
    "version": 3
   },
   "file_extension": ".py",
   "mimetype": "text/x-python",
   "name": "python",
   "nbconvert_exporter": "python",
   "pygments_lexer": "ipython3",
   "version": "3.7.6"
  }
 },
 "nbformat": 4,
 "nbformat_minor": 4
}
