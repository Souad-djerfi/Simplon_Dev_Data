{
 "cells": [
  {
   "cell_type": "code",
   "execution_count": 2,
   "metadata": {},
   "outputs": [
    {
     "data": {
      "text/plain": [
       "['C', 'Test', 'Je', 'Entrain', 'De']"
      ]
     },
     "execution_count": 2,
     "metadata": {},
     "output_type": "execute_result"
    }
   ],
   "source": [
    "#renvoie tout les mots de la chaîne s commençant par une majuscule\n",
    "from re import findall\n",
    "def hascap(s):\n",
    "    motif='[A-Z][a-zA-Z]*'\n",
    "    return findall(motif,s)\n",
    "       \n",
    "text=\"C'est un Test que Je suis Entrain De faire\"    \n",
    "hascap(text)\n",
    "\n"
   ]
  },
  {
   "cell_type": "code",
   "execution_count": 13,
   "metadata": {},
   "outputs": [
    {
     "name": "stdout",
     "output_type": "stream",
     "text": [
      "['Bonjour,', 'Je', 'Souad']\n"
     ]
    }
   ],
   "source": [
    "#renvoie tous les mots de la chaîne s commençant par une majuscule\n",
    "texte=\"Bonjour, Je m'appelle Souad\"\n",
    "liste=[]\n",
    "for mot in texte.split():\n",
    "    for i in range(len(mot)):\n",
    "        if ord(mot[0])in range(65,91):\n",
    "            liste.append(mot)\n",
    "        break\n",
    "print(liste)   "
   ]
  },
  {
   "cell_type": "code",
   "execution_count": 56,
   "metadata": {},
   "outputs": [
    {
     "data": {
      "text/plain": [
       "'le prix est de 54 euros'"
      ]
     },
     "execution_count": 56,
     "metadata": {},
     "output_type": "execute_result"
    }
   ],
   "source": [
    "#doubler la valeur de tout les nombre dans la chaine s\n",
    "def inflation(s):\n",
    "    \n",
    "    for i,j in enumerate(s.split()):\n",
    "        \n",
    "        if j.isnumeric():\n",
    "            s=s.replace(j,str(int(j)*2))\n",
    "    return s \n",
    "\n",
    "text=\"le prix est de 27 euros\"\n",
    "inflation(text)"
   ]
  },
  {
   "cell_type": "code",
   "execution_count": 60,
   "metadata": {},
   "outputs": [
    {
     "data": {
      "text/plain": [
       "['bonjour, je m appelle DJ ',\n",
       " 'ERFI SouAD je suis appre ',\n",
       " 'nante a Simplon. comment ',\n",
       " ' ca va ?......']"
      ]
     },
     "execution_count": 60,
     "metadata": {},
     "output_type": "execute_result"
    }
   ],
   "source": [
    "#renvoie une liste de chaîne de caractères contenant chacun 24 caractères maximum\n",
    "def ligne(s):\n",
    "    liste=[]\n",
    "    i=0\n",
    "    while i<len(s):\n",
    "        if i+24<len(s):\n",
    "            liste.append(s[i:i+24]+\" \")\n",
    "            i+=24\n",
    "        else:\n",
    "            liste.append(s[i:])\n",
    "            break\n",
    " \n",
    "    return (liste)   \n",
    "text='bonjour, je m appelle DJERFI SouAD je suis apprenante a Simplon. comment ca va ?......'\n",
    "ligne(text)"
   ]
  },
  {
   "cell_type": "code",
   "execution_count": null,
   "metadata": {},
   "outputs": [],
   "source": []
  },
  {
   "cell_type": "code",
   "execution_count": 16,
   "metadata": {},
   "outputs": [
    {
     "name": "stdout",
     "output_type": "stream",
     "text": [
      "['22', '-100', '2.5', '23']\n"
     ]
    }
   ],
   "source": [
    "#la liste de tout les nombres (y compris décimaux et négatifs)\n",
    "from re import findall\n",
    "text=' depuis le 22 juin, -100 et 2.5 ca se 23 passe plutot bien, je suis contente!'\n",
    "motif=\"(?:-)?[1-9]+[?:.]?[0-9]*\"\n",
    "print (findall(motif, text))"
   ]
  },
  {
   "cell_type": "code",
   "execution_count": 1,
   "metadata": {},
   "outputs": [
    {
     "name": "stdout",
     "output_type": "stream",
     "text": [
      "['22', '-100', '2.5', '23']\n"
     ]
    },
    {
     "data": {
      "text/plain": [
       "'depuis le 22 juin, -100 et 2 ca se 23 passe plutot bien, je suis contente!'"
      ]
     },
     "execution_count": 1,
     "metadata": {},
     "output_type": "execute_result"
    }
   ],
   "source": [
    "# arrondi(s) qui dans la chaîne s troncaturetout les nombre décimaux.\n",
    "from re import sub, finditer \n",
    "\n",
    "def arrondis(text):\n",
    "    motif='-?[0-9]+[.,]?[0-9]*'\n",
    "\n",
    "    liste=[ mot.group()  for mot in finditer(motif, text)]\n",
    "    for i in liste:\n",
    "        if i in text:\n",
    "            text=text.replace(i,str(int(float(i))))\n",
    "    return text \n",
    "\n",
    "text1='depuis le 22 juin, -100 et 2.5 ca se 23 passe plutot bien, je suis contente!'\n",
    "arrondis (text1)\n",
    "  "
   ]
  },
  {
   "cell_type": "code",
   "execution_count": null,
   "metadata": {},
   "outputs": [],
   "source": []
  },
  {
   "cell_type": "code",
   "execution_count": null,
   "metadata": {},
   "outputs": [],
   "source": []
  },
  {
   "cell_type": "code",
   "execution_count": null,
   "metadata": {},
   "outputs": [],
   "source": []
  }
 ],
 "metadata": {
  "kernelspec": {
   "display_name": "Python 3",
   "language": "python",
   "name": "python3"
  },
  "language_info": {
   "codemirror_mode": {
    "name": "ipython",
    "version": 3
   },
   "file_extension": ".py",
   "mimetype": "text/x-python",
   "name": "python",
   "nbconvert_exporter": "python",
   "pygments_lexer": "ipython3",
   "version": "3.7.6"
  }
 },
 "nbformat": 4,
 "nbformat_minor": 4
}
